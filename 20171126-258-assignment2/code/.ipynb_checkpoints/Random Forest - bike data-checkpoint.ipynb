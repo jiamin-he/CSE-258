{
 "cells": [
  {
   "cell_type": "code",
   "execution_count": 1,
   "metadata": {},
   "outputs": [
    {
     "name": "stderr",
     "output_type": "stream",
     "text": [
      "/Users/about/anaconda3/lib/python3.6/site-packages/sklearn/cross_validation.py:41: DeprecationWarning: This module was deprecated in version 0.18 in favor of the model_selection module into which all the refactored classes and functions are moved. Also note that the interface of the new CV iterators are different from that of this module. This module will be removed in 0.20.\n",
      "  \"This module will be removed in 0.20.\", DeprecationWarning)\n"
     ]
    }
   ],
   "source": [
    "import pandas as pd\n",
    "import numpy as np\n",
    "import matplotlib.pyplot as plt\n",
    "import csv as csv\n",
    "from sklearn.ensemble import RandomForestClassifier\n",
    "from sklearn.cross_validation import train_test_split\n",
    "%matplotlib inline"
   ]
  },
  {
   "cell_type": "markdown",
   "metadata": {},
   "source": [
    "### Applying Random Forest with already available features"
   ]
  },
  {
   "cell_type": "code",
   "execution_count": 84,
   "metadata": {},
   "outputs": [
    {
     "name": "stdout",
     "output_type": "stream",
     "text": [
      "Done...\n"
     ]
    }
   ],
   "source": [
    "data = pd.read_csv('../data/train.csv')\n",
    "test_data = pd.read_csv('../data/test.csv')\n",
    "\n",
    "train_data = train_df[['trip_id','duration','start_time','end_time','start_station','start_lat','start_lon','end_station','end_lat', 'end_lon', 'bike_id', 'plan_duration', 'trip_route_category', 'passholder_type']].values\n",
    "test_data = test_df[['datetime','season','holiday','workingday','weather','temp','atemp','humidity','windspeed']].values\n",
    "\n",
    "forest = RandomForestClassifier()\n",
    "forest.fit(train_data[0::,1:-1], train_data[0::,-1])\n",
    "output = forest.predict(test_data[0::,1::]).astype(int)\n",
    "datetimes = test_data[0::,0]\n",
    "\n",
    "\n",
    "\n",
    "predictions_file = open(\"../data/random_forest_submission.csv\", \"wb\")\n",
    "open_file_object = csv.writer(predictions_file)\n",
    "\n",
    "open_file_object.writerow([\"datetime\",\"count\"])\n",
    "open_file_object.writerows(zip(datetimes, output))\n",
    "predictions_file.close()\n",
    "print 'Done...'"
   ]
  },
  {
   "cell_type": "markdown",
   "metadata": {},
   "source": [
    "### Adding time feature (extracted from datetime) while applying Random Forest"
   ]
  },
  {
   "cell_type": "code",
   "execution_count": 85,
   "metadata": {},
   "outputs": [
    {
     "name": "stdout",
     "output_type": "stream",
     "text": [
      "Done.\n"
     ]
    }
   ],
   "source": [
    "train_df = pd.read_csv('../data/train.csv')\n",
    "test_df = pd.read_csv('../data/test.csv')\n",
    "\n",
    "datetime_values = train_df['datetime'].values\n",
    "time_values = []\n",
    "for datetime_value in datetime_values:\n",
    "    time_values.append(datetime_value.split()[1].split(':')[0])\n",
    "train_df['time'] = time_values\n",
    "\n",
    "datetime_values = test_df['datetime'].values\n",
    "time_values = []\n",
    "for datetime_value in datetime_values:\n",
    "    time_values.append(datetime_value.split()[1].split(':')[0])\n",
    "test_df['time'] = time_values\n",
    "train_data = train_df[['datetime','season','holiday','workingday','weather','temp','atemp','humidity','windspeed','time', 'count']].values\n",
    "test_data = test_df[['datetime','season','holiday','workingday','weather','temp','atemp','humidity','windspeed','time']].values\n",
    "\n",
    "forest = RandomForestClassifier()\n",
    "forest.fit(train_data[0::,1:-1], train_data[0::,-1])\n",
    "output = forest.predict(test_data[0::,1::]).astype(int)\n",
    "datetimes = test_data[0::,0]\n",
    "\n",
    "\n",
    "predictions_file = open(\"../data/random_forest_submission.csv\", \"wb\")\n",
    "open_file_object = csv.writer(predictions_file)\n",
    "open_file_object.writerow([\"datetime\",\"count\"])\n",
    "open_file_object.writerows(zip(datetimes, output))\n",
    "predictions_file.close()\n",
    "print 'Done.'"
   ]
  },
  {
   "cell_type": "code",
   "execution_count": null,
   "metadata": {
    "collapsed": true
   },
   "outputs": [],
   "source": [
    "train_df = pd.read_csv('../data/train.csv')\n",
    "test_df = pd.read_csv('../data/test.csv')\n",
    "\n",
    "datetime_values = train_df['datetime'].values\n",
    "time_values = []\n",
    "date_values = []\n",
    "month_values = []\n",
    "for datetime_value in datetime_values:\n",
    "    time_values.append(datetime_value.split()[1].split(':')[0])\n",
    "    date_values.append(datetime_value.split()[0].split('-')[2])\n",
    "    month_values.append(datetime_value.split()[0].split('-')[1])\n",
    "train_df['time'] = time_values\n",
    "train_df['date'] = date_values\n",
    "train_df['month'] = month_values\n",
    "\n",
    "datetime_values = test_df['datetime'].values\n",
    "time_values = []\n",
    "date_values = []\n",
    "month_values = []\n",
    "for datetime_value in datetime_values:\n",
    "    time_values.append(datetime_value.split()[1].split(':')[0])\n",
    "    date_values.append(datetime_value.split()[0].split('-')[2])\n",
    "    month_values.append(datetime_value.split()[0].split('-')[1])\n",
    "test_df['time'] = time_values\n",
    "test_df['date'] = date_values\n",
    "test_df['month'] = month_values\n",
    "\n",
    "train_data = train_df[['datetime','season','holiday','workingday','weather','temp','atemp','humidity','windspeed','time','date','month','count']].values\n",
    "test_data = test_df[['datetime','season','holiday','workingday','weather','temp','atemp','humidity','windspeed','time','date','month']].values\n",
    "\n",
    "forest = RandomForestClassifier(n_estimators=100)\n",
    "forest.fit(train_data[0::,1:-1], train_data[0::,-1])\n",
    "output = forest.predict(test_data[0::,1::]).astype(int)\n",
    "\n",
    "datetimes = test_data[0::,0]\n",
    "predictions_file = open(\"../data/random_forest_submission.csv\", \"wb\")\n",
    "open_file_object = csv.writer(predictions_file)\n",
    "open_file_object.writerow([\"datetime\",\"count\"])\n",
    "open_file_object.writerows(zip(datetimes, output))\n",
    "predictions_file.close()\n",
    "print 'Done.'"
   ]
  },
  {
   "cell_type": "code",
   "execution_count": null,
   "metadata": {
    "collapsed": true
   },
   "outputs": [],
   "source": [
    "a_train, a_test, b_train, b_test = train_test_split(a, b, test_size=0.33, random_state=42)"
   ]
  }
 ],
 "metadata": {
  "kernelspec": {
   "display_name": "Python 3",
   "language": "python",
   "name": "python3"
  },
  "language_info": {
   "codemirror_mode": {
    "name": "ipython",
    "version": 3
   },
   "file_extension": ".py",
   "mimetype": "text/x-python",
   "name": "python",
   "nbconvert_exporter": "python",
   "pygments_lexer": "ipython3",
   "version": "3.6.2"
  }
 },
 "nbformat": 4,
 "nbformat_minor": 1
}
